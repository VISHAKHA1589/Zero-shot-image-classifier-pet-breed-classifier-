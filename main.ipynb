{
 "cells": [
  {
   "cell_type": "code",
   "execution_count": 42,
   "id": "0d27875f",
   "metadata": {},
   "outputs": [],
   "source": [
    "from transformers import CLIPProcessor, CLIPModel\n",
    "import torch\n",
    "from PIL import Image\n",
    "import pandas as pd\n",
    "model = CLIPModel.from_pretrained(\"openai/clip-vit-base-patch32\")\n",
    "processor = CLIPProcessor.from_pretrained(\"openai/clip-vit-base-patch32\")\n"
   ]
  },
  {
   "cell_type": "code",
   "execution_count": 43,
   "id": "0401054c",
   "metadata": {},
   "outputs": [],
   "source": [
    "df = pd.read_csv(\"./file_labels.csv\")  # columns: filename,label\n",
    "\n",
    "image_paths = df['filename'].tolist()\n",
    "true_labels = df['label'].tolist()\n",
    "\n",
    "# Get all unique class prompts from labels\n",
    "class_names = sorted(list(set(true_labels)))\n",
    "\n",
    "\n",
    "def compute_text_embeddings(class_names, processor, model):\n",
    "    text_inputs = processor(text=class_names, return_tensors=\"pt\", padding=True, truncation=True)\n",
    "    with torch.no_grad():\n",
    "        text_features = model.get_text_features(**text_inputs)\n",
    "        return text_features / text_features.norm(p=2, dim=-1, keepdim=True)\n",
    "    \n",
    "\n",
    "text_features = compute_text_embeddings(class_names, processor, model)\n"
   ]
  },
  {
   "cell_type": "code",
   "execution_count": 44,
   "id": "cb62b40d",
   "metadata": {},
   "outputs": [],
   "source": [
    "from PIL import Image\n",
    "import torch\n",
    "\n",
    "top1_preds = []\n",
    "top5_preds = []\n",
    "\n",
    "for img_path in image_paths:\n",
    "    try:\n",
    "        image = Image.open(img_path).convert(\"RGB\")\n",
    "    except (FileNotFoundError, OSError):\n",
    "        top1_preds.append(\"INVALID\")\n",
    "        top5_preds.append([\"INVALID\"] * 5)\n",
    "        continue\n",
    "\n",
    "    inputs = processor(images=image, return_tensors=\"pt\", padding=True)\n",
    "\n",
    "    with torch.no_grad():\n",
    "        image_features = model.get_image_features(**inputs)\n",
    "        image_features = image_features / image_features.norm(p=2, dim=-1, keepdim=True)\n",
    "\n",
    "        similarity = image_features @ text_features.T\n",
    "        probs = similarity.softmax(dim=1)\n",
    "\n",
    "        top1_idx = torch.argmax(probs, dim=1).item()\n",
    "        top5_idx = torch.topk(probs, k=5, dim=1).indices[0].tolist()\n",
    "\n",
    "    top1_preds.append(class_names[top1_idx])\n",
    "    top5_preds.append([class_names[i] for i in top5_idx])\n"
   ]
  },
  {
   "cell_type": "code",
   "execution_count": 45,
   "id": "8755b2ab",
   "metadata": {},
   "outputs": [],
   "source": [
    "valid_rows = [i for i, pred in enumerate(top1_preds) if pred != \"INVALID\"]\n",
    "filtered_true = [true_labels[i] for i in valid_rows]\n",
    "filtered_top1 = [top1_preds[i] for i in valid_rows]\n",
    "filtered_top5 = [top5_preds[i] for i in valid_rows]\n",
    "\n"
   ]
  },
  {
   "cell_type": "code",
   "execution_count": 46,
   "id": "47024fdb",
   "metadata": {},
   "outputs": [
    {
     "name": "stdout",
     "output_type": "stream",
     "text": [
      "Top-1 Accuracy: 0.8611\n",
      "Top-5 Accuracy: 0.9722\n"
     ]
    }
   ],
   "source": [
    "from sklearn.metrics import accuracy_score, top_k_accuracy_score\n",
    "top1_acc = accuracy_score(filtered_true, filtered_top1)\n",
    "\n",
    "\n",
    "top5_acc = sum(t in p for t, p in zip(filtered_true, filtered_top5)) / len(filtered_true)\n",
    "\n",
    "print(f\"Top-1 Accuracy: {top1_acc:.4f}\")\n",
    "print(f\"Top-5 Accuracy: {top5_acc:.4f}\")\n"
   ]
  }
 ],
 "metadata": {
  "kernelspec": {
   "display_name": "Python 3",
   "language": "python",
   "name": "python3"
  },
  "language_info": {
   "codemirror_mode": {
    "name": "ipython",
    "version": 3
   },
   "file_extension": ".py",
   "mimetype": "text/x-python",
   "name": "python",
   "nbconvert_exporter": "python",
   "pygments_lexer": "ipython3",
   "version": "3.13.2"
  }
 },
 "nbformat": 4,
 "nbformat_minor": 5
}
